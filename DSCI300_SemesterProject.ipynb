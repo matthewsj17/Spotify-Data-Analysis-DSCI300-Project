# To be used with Google Colab

from google.colab import drive
drive.mount('/content/drive')

import numpy as np
import pandas as pd

# Directory needs to be changed.
test_df = pd.read_csv('/content/drive/MyDrive/DSCI300/Project/monfaredSpotifyData.csv')

test_df.describe()
